{
 "cells": [
  {
   "cell_type": "code",
   "execution_count": 1,
   "metadata": {},
   "outputs": [
    {
     "name": "stdout",
     "output_type": "stream",
     "text": [
      "Collecting phonenumbers\n",
      "  Downloading phonenumbers-8.12.38-py2.py3-none-any.whl (2.6 MB)\n",
      "\u001b[K     |████████████████████████████████| 2.6 MB 1.2 MB/s eta 0:00:01\n",
      "\u001b[?25hInstalling collected packages: phonenumbers\n",
      "Successfully installed phonenumbers-8.12.38\n",
      "Note: you may need to restart the kernel to use updated packages.\n"
     ]
    }
   ],
   "source": [
    "pip install phonenumbers"
   ]
  },
  {
   "cell_type": "code",
   "execution_count": 1,
   "metadata": {},
   "outputs": [
    {
     "name": "stdout",
     "output_type": "stream",
     "text": [
      "India\n",
      "Airtel\n"
     ]
    }
   ],
   "source": [
    "import phonenumbers\n",
    "number = \"+918521201111\"\n",
    "from phonenumbers import geocoder\n",
    "ch_number = phonenumbers.parse(number, \"CH\")\n",
    "print(geocoder.description_for_number(ch_number,\"en\"))\n",
    "\n",
    "from phonenumbers import carrier\n",
    "service_pro = phonenumbers.parse(number)\n",
    "print(carrier.name_for_number(service_pro,\"en\"))"
   ]
  },
  {
   "cell_type": "code",
   "execution_count": 2,
   "metadata": {},
   "outputs": [
    {
     "name": "stdout",
     "output_type": "stream",
     "text": [
      "Collecting opencage\n",
      "  Downloading opencage-2.0.0-py3-none-any.whl (13 kB)\n",
      "Requirement already satisfied: pyopenssl>=0.15.1 in ./opt/anaconda3/lib/python3.8/site-packages (from opencage) (19.1.0)\n",
      "Collecting backoff>=1.10.0\n",
      "  Downloading backoff-1.11.1-py2.py3-none-any.whl (13 kB)\n",
      "Requirement already satisfied: Requests>=2.2.0 in ./opt/anaconda3/lib/python3.8/site-packages (from opencage) (2.24.0)\n",
      "Requirement already satisfied: six>=1.5.2 in ./opt/anaconda3/lib/python3.8/site-packages (from pyopenssl>=0.15.1->opencage) (1.15.0)\n",
      "Requirement already satisfied: cryptography>=2.8 in ./opt/anaconda3/lib/python3.8/site-packages (from pyopenssl>=0.15.1->opencage) (2.9.2)\n",
      "Requirement already satisfied: idna<3,>=2.5 in ./opt/anaconda3/lib/python3.8/site-packages (from Requests>=2.2.0->opencage) (2.10)\n",
      "Requirement already satisfied: certifi>=2017.4.17 in ./opt/anaconda3/lib/python3.8/site-packages (from Requests>=2.2.0->opencage) (2020.6.20)\n",
      "Requirement already satisfied: chardet<4,>=3.0.2 in ./opt/anaconda3/lib/python3.8/site-packages (from Requests>=2.2.0->opencage) (3.0.4)\n",
      "Requirement already satisfied: urllib3!=1.25.0,!=1.25.1,<1.26,>=1.21.1 in ./opt/anaconda3/lib/python3.8/site-packages (from Requests>=2.2.0->opencage) (1.25.9)\n",
      "Requirement already satisfied: cffi!=1.11.3,>=1.8 in ./opt/anaconda3/lib/python3.8/site-packages (from cryptography>=2.8->pyopenssl>=0.15.1->opencage) (1.14.0)\n",
      "Requirement already satisfied: pycparser in ./opt/anaconda3/lib/python3.8/site-packages (from cffi!=1.11.3,>=1.8->cryptography>=2.8->pyopenssl>=0.15.1->opencage) (2.20)\n",
      "Installing collected packages: backoff, opencage\n",
      "Successfully installed backoff-1.11.1 opencage-2.0.0\n",
      "Note: you may need to restart the kernel to use updated packages.\n"
     ]
    }
   ],
   "source": [
    "pip install opencage"
   ]
  },
  {
   "cell_type": "code",
   "execution_count": 3,
   "metadata": {},
   "outputs": [
    {
     "name": "stdout",
     "output_type": "stream",
     "text": [
      "India\n",
      "Airtel\n",
      "22.3511148 78.6677428\n"
     ]
    }
   ],
   "source": [
    "import phonenumbers\n",
    "import opencage\n",
    "number = \"+918521201111\"\n",
    "from phonenumbers import geocoder\n",
    "ch_number = phonenumbers.parse(number, \"CH\")\n",
    "location = geocoder.description_for_number(ch_number,\"en\")\n",
    "print(location)\n",
    "\n",
    "from phonenumbers import carrier\n",
    "service_pro = phonenumbers.parse(number)\n",
    "print(carrier.name_for_number(service_pro,\"en\"))\n",
    "\n",
    "from opencage.geocoder import OpenCageGeocode\n",
    "\n",
    "key = '15717147494c44268bf31c0a3c1ab0b7'\n",
    "\n",
    "geocoder = OpenCageGeocode(key)\n",
    "query = str(location)\n",
    "results = geocoder.geocode(query)\n",
    "#print(results)\n",
    "\n",
    "lat = results[0]['geometry']['lat']\n",
    "lng = results[0]['geometry']['lng']\n",
    "\n",
    "print(lat,lng)"
   ]
  },
  {
   "cell_type": "code",
   "execution_count": 5,
   "metadata": {},
   "outputs": [
    {
     "name": "stdout",
     "output_type": "stream",
     "text": [
      "Collecting folium\n",
      "  Downloading folium-0.12.1.post1-py2.py3-none-any.whl (95 kB)\n",
      "\u001b[K     |████████████████████████████████| 95 kB 1.9 MB/s eta 0:00:01\n",
      "\u001b[?25hRequirement already satisfied: requests in ./opt/anaconda3/lib/python3.8/site-packages (from folium) (2.24.0)\n",
      "Requirement already satisfied: numpy in ./opt/anaconda3/lib/python3.8/site-packages (from folium) (1.18.5)\n",
      "Requirement already satisfied: jinja2>=2.9 in ./opt/anaconda3/lib/python3.8/site-packages (from folium) (2.11.2)\n",
      "Collecting branca>=0.3.0\n",
      "  Downloading branca-0.4.2-py3-none-any.whl (24 kB)\n",
      "Requirement already satisfied: urllib3!=1.25.0,!=1.25.1,<1.26,>=1.21.1 in ./opt/anaconda3/lib/python3.8/site-packages (from requests->folium) (1.25.9)\n",
      "Requirement already satisfied: certifi>=2017.4.17 in ./opt/anaconda3/lib/python3.8/site-packages (from requests->folium) (2020.6.20)\n",
      "Requirement already satisfied: idna<3,>=2.5 in ./opt/anaconda3/lib/python3.8/site-packages (from requests->folium) (2.10)\n",
      "Requirement already satisfied: chardet<4,>=3.0.2 in ./opt/anaconda3/lib/python3.8/site-packages (from requests->folium) (3.0.4)\n",
      "Requirement already satisfied: MarkupSafe>=0.23 in ./opt/anaconda3/lib/python3.8/site-packages (from jinja2>=2.9->folium) (1.1.1)\n",
      "Installing collected packages: branca, folium\n",
      "Successfully installed branca-0.4.2 folium-0.12.1.post1\n",
      "Note: you may need to restart the kernel to use updated packages.\n"
     ]
    }
   ],
   "source": [
    "pip install folium"
   ]
  },
  {
   "cell_type": "code",
   "execution_count": 2,
   "metadata": {},
   "outputs": [
    {
     "name": "stdout",
     "output_type": "stream",
     "text": [
      "India\n",
      "Idea\n",
      "22.3511148 78.6677428\n"
     ]
    }
   ],
   "source": [
    "import phonenumbers\n",
    "import opencage\n",
    "import folium\n",
    "number = \"+919516296524\"\n",
    "from phonenumbers import geocoder\n",
    "ch_number = phonenumbers.parse(number, \"CH\")\n",
    "location = geocoder.description_for_number(ch_number,\"en\")\n",
    "print(location)\n",
    "\n",
    "from phonenumbers import carrier\n",
    "service_pro = phonenumbers.parse(number)\n",
    "print(carrier.name_for_number(service_pro,\"en\"))\n",
    "\n",
    "from opencage.geocoder import OpenCageGeocode\n",
    "\n",
    "key = '15717147494c44268bf31c0a3c1ab0b7'\n",
    "\n",
    "geocoder = OpenCageGeocode(key)\n",
    "query = str(location)\n",
    "results = geocoder.geocode(query)\n",
    "#print(results)\n",
    "\n",
    "lat = results[0]['geometry']['lat']\n",
    "lng = results[0]['geometry']['lng']\n",
    "\n",
    "print(lat,lng)\n",
    "\n",
    "myMap = folium.Map(location=[lat, lng], zoom_start= 9)\n",
    "folium.Marker([lat, lng], popup=location).add_to(myMap)\n",
    "\n",
    "myMap.save(\"mylocation.html\")"
   ]
  },
  {
   "cell_type": "code",
   "execution_count": null,
   "metadata": {},
   "outputs": [],
   "source": []
  }
 ],
 "metadata": {
  "kernelspec": {
   "display_name": "Python 3",
   "language": "python",
   "name": "python3"
  },
  "language_info": {
   "codemirror_mode": {
    "name": "ipython",
    "version": 3
   },
   "file_extension": ".py",
   "mimetype": "text/x-python",
   "name": "python",
   "nbconvert_exporter": "python",
   "pygments_lexer": "ipython3",
   "version": "3.8.3"
  }
 },
 "nbformat": 4,
 "nbformat_minor": 4
}
